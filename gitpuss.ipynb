'/c/Users/karth/Documents/data science_24_june/Logistic_Regression__24Jun.ipynb'
